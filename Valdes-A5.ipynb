{
 "cells": [
  {
   "cell_type": "markdown",
   "metadata": {},
   "source": [
    "# A5 1-D and 2-D Convolutional Neural Networks in Pytorch\n",
    "\n",
    "* A5.4: *Changed structure of `CNN2D.__init__` by having it call `make_cnn_and_fc_layers` function. It is this function that `CNN1D` must override., not the `__init__` constructor.*\n",
    "* A5.3: *Added two missing statements in `CNN2D` that initialize `layeri` to 0 and increment it by 1*\n",
    "* A5.2: *added an exception to `CNN2D.__init__` code that provides a helpful message if you specify an impossible configuration for convolutional layers.  Repeat this exception code in your `CNN1D.__init__` function.*\n",
    "* A5.1: *small edit in CNN2D to allow empty list for `n_hiddens_per_fc_layer`.*\n",
    "\n",
    "In this assignment, you will experiment with the given convolutional neural network for 2-dimensional input samples (images), in class `CNN2D`, by applying it to the MNIST data.  You will also define a new class for handling 1-dimensional input samples, called `CNN1D`, that extends `CNN2D`."
   ]
  },
  {
   "cell_type": "code",
   "execution_count": 1,
   "metadata": {},
   "outputs": [],
   "source": [
    "import numpy as np\n",
    "import torch\n",
    "import pandas\n",
    "\n",
    "import matplotlib.pyplot as plt"
   ]
  },
  {
   "cell_type": "markdown",
   "metadata": {},
   "source": [
    "## `CNN2D` class"
   ]
  },
  {
   "cell_type": "markdown",
   "metadata": {},
   "source": [
    "Here is a definition of `CNN2D`."
   ]
  },
  {
   "cell_type": "code",
   "execution_count": 2,
   "metadata": {},
   "outputs": [],
   "source": [
    "import numpy as np\n",
    "import torch\n",
    "\n",
    "\n",
    "class CNN2D(torch.nn.Module):\n",
    "\n",
    "    def __init__(self, n_inputs, n_hiddens_per_conv_layer, n_hiddens_per_fc_layer, n_outputs,\n",
    "                 patch_size_per_conv_layer, stride_per_conv_layer, activation_function='tanh', device='cpu'):\n",
    "\n",
    "        super().__init__()\n",
    "\n",
    "        self.device = device\n",
    "\n",
    "        n_conv_layers = len(n_hiddens_per_conv_layer)\n",
    "        if (len(patch_size_per_conv_layer) != n_conv_layers\n",
    "            or len(stride_per_conv_layer) != n_conv_layers):\n",
    "            raise Exception('The lengths of n_hiddens_per_conv_layer, patch_size_per_conv_layer, and stride_per_conv_layer must be equal.')\n",
    "\n",
    "        self.activation_function = torch.tanh if activation_function == 'tanh' else torch.relu\n",
    "\n",
    "        self.make_conv_and_fc_layers(n_inputs, n_hiddens_per_conv_layer, n_hiddens_per_fc_layer, n_outputs,\n",
    "                                     patch_size_per_conv_layer, stride_per_conv_layer)\n",
    "        \n",
    "        self.Xmeans = None\n",
    "        self.to(self.device)\n",
    "\n",
    "    def make_conv_and_fc_layers(self, n_inputs, n_hiddens_per_conv_layer, n_hiddens_per_fc_layer, n_outputs,\n",
    "                                patch_size_per_conv_layer, stride_per_conv_layer):\n",
    "                # Create all convolutional layers\n",
    "        # First argument to first Conv2d is number of channels for each pixel.\n",
    "        # Just 1 for our grayscale images.\n",
    "        n_in = 1\n",
    "        input_hw = int(np.sqrt(n_inputs))  # original input image height (=width because image assumed square)\n",
    "        self.conv_layers = torch.nn.ModuleList()\n",
    "        layeri = 0\n",
    "        for nh, patch_size, stride in zip(n_hiddens_per_conv_layer,\n",
    "                                          patch_size_per_conv_layer,\n",
    "                                          stride_per_conv_layer):\n",
    "            self.conv_layers.append(torch.nn.Conv2d(n_in, nh, kernel_size=patch_size, stride=stride))\n",
    "            conv_layer_output_hw = (input_hw - patch_size) // stride + 1\n",
    "            if conv_layer_output_hw <= 0:\n",
    "                raise Exception(f'''For conv layer {layeri}, input_hw of {input_hw} is less than patch_size {patch_size}.\n",
    "Try reducing the patch_size for this layer or for the previous layer.''')\n",
    "            input_hw = conv_layer_output_hw  # for next trip through this loop\n",
    "            n_in = nh\n",
    "            layeri += 1\n",
    "           \n",
    "        # Create all fully connected layers.  First must determine number of inputs to first\n",
    "        # fully-connected layer that results from flattening the images coming out of the last\n",
    "        # convolutional layer.\n",
    "        n_in = input_hw ** 2 * n_in\n",
    "        self.fc_layers = torch.nn.ModuleList()\n",
    "        for nh in n_hiddens_per_fc_layer:\n",
    "            self.fc_layers.append(torch.nn.Linear(n_in, nh))\n",
    "            n_in = nh\n",
    "        self.fc_layers.append(torch.nn.Linear(n_in, n_outputs))\n",
    "\n",
    "    def forward_all_outputs(self, X):\n",
    "        n_samples = X.shape[0]\n",
    "        Ys = [X]\n",
    "        for conv_layer in self.conv_layers:\n",
    "            Ys.append(self.activation_function(conv_layer(Ys[-1])))\n",
    "\n",
    "        flattened_input = Ys[-1].reshape(n_samples, -1)\n",
    "\n",
    "        for layeri, fc_layer in enumerate(self.fc_layers[:-1]):\n",
    "            if layeri == 0:\n",
    "                Ys.append(self.activation_function(fc_layer(flattened_input)))\n",
    "            else:\n",
    "                Ys.append(self.activation_function(fc_layer(Ys[-1])))\n",
    "\n",
    "        if len(self.fc_layers) == 1:\n",
    "            # only the output layer\n",
    "            Ys.append(self.fc_layers[-1](flattened_input))\n",
    "        else:\n",
    "            Ys.append(self.fc_layers[-1](Ys[-1]))\n",
    "\n",
    "        return Ys\n",
    "\n",
    "    def forward(self, X):\n",
    "        Ys = self.forward_all_outputs(X)\n",
    "        return Ys[-1]\n",
    "\n",
    "    def train(self, X, T, batch_size, n_epochs, learning_rate, method='sgd', verbose=True):\n",
    "        '''X and T must be numpy arrays'''\n",
    "\n",
    "        self.classes = np.unique(T)\n",
    "        T = np.arange(len(self.classes))[np.where(T.reshape(-1, 1) == self.classes)[1]]\n",
    "\n",
    "        # Set data matrices to torch.tensors\n",
    "        X = torch.from_numpy(X).float().to(self.device)\n",
    "        T = torch.from_numpy(T).long().to(self.device)  # required for classification in pytorch\n",
    "\n",
    "        # Setup standardization parameters\n",
    "        if self.Xmeans is None:\n",
    "            self.Xmeans = X.mean(axis=0)\n",
    "            self.Xstds = X.std(axis=0)\n",
    "            self.Xstds[self.Xstds == 0] = 1  # So we don't divide by zero when standardizing\n",
    "\n",
    "        # Standardize X\n",
    "        X = (X - self.Xmeans) / self.Xstds\n",
    "\n",
    "        X.requires_grad_(True)\n",
    "\n",
    "        if method == 'sgd':\n",
    "            optimizer = torch.optim.SGD(self.parameters(), lr=learning_rate, momentum=0.9)\n",
    "        else:\n",
    "            optimizer = torch.optim.Adam(self.parameters(), lr=learning_rate)\n",
    "\n",
    "        CELoss = torch.nn.CrossEntropyLoss(reduction='mean')\n",
    "        self.error_trace = []\n",
    "\n",
    "        for epoch in range(n_epochs):\n",
    "\n",
    "            num_batches = X.shape[0] // batch_size\n",
    "            loss_sum = 0\n",
    "\n",
    "            for k in range(num_batches):\n",
    "                start = k * batch_size\n",
    "                end = (k + 1) * batch_size\n",
    "                X_batch = X[start:end, ...]\n",
    "                T_batch = T[start:end, ...]\n",
    "\n",
    "                Y = self.forward(X_batch)\n",
    "\n",
    "                loss = CELoss(Y, T_batch)\n",
    "                loss.backward()\n",
    "\n",
    "                # Update parameters\n",
    "                optimizer.step()\n",
    "                optimizer.zero_grad()\n",
    "\n",
    "                loss_sum += loss\n",
    "\n",
    "            self.error_trace.append(loss_sum / num_batches)\n",
    "\n",
    "            if verbose and (epoch + 1) % (max(1, n_epochs // 10)) == 0:\n",
    "                print(f'{method}: Epoch {epoch + 1} Loss {self.error_trace[-1]:.3f}')\n",
    "\n",
    "        return self\n",
    "\n",
    "    def softmax(self, Y):\n",
    "        '''Apply to final layer weighted sum outputs'''\n",
    "        # Trick to avoid overflow\n",
    "        maxY = torch.max(Y, axis=1)[0].reshape((-1, 1))\n",
    "        expY = torch.exp(Y - maxY)\n",
    "        denom = torch.sum(expY, axis=1).reshape((-1, 1))\n",
    "        Y = expY / denom\n",
    "        return Y\n",
    "\n",
    "    def use(self, X):\n",
    "        # Set input matrix to torch.tensors\n",
    "        X = torch.from_numpy(X).float().to(self.device)\n",
    "        # Standardize X\n",
    "        X = (X - self.Xmeans) / self.Xstds\n",
    "        # Calculate output of net for all samples in X\n",
    "        Y = self.forward(X)\n",
    "        # Convert output to class probabilities\n",
    "        probs = self.softmax(Y)\n",
    "        # For each sample pick highest probability and translate that to class labels\n",
    "        classes = self.classes[torch.argmax(probs, axis=1).cpu().numpy()].reshape(-1, 1)\n",
    "        return classes, probs.detach().cpu().numpy()"
   ]
  },
  {
   "cell_type": "markdown",
   "metadata": {},
   "source": [
    "### CNN2D on MNIST Digits\n",
    "\n",
    "We will use a bunch (50,000) images of hand drawn digits from [this deeplearning.net site](http://deeplearning.net/tutorial/gettingstarted.html).  Download `mnist.pkl.gz`. \n",
    "\n",
    "This pickle file includes data already partitioned into training, validation, and test sets.  To read it into python, use the following steps"
   ]
  },
  {
   "cell_type": "code",
   "execution_count": 3,
   "metadata": {},
   "outputs": [
    {
     "name": "stdout",
     "output_type": "stream",
     "text": [
      "(50000, 1, 28, 28) (50000, 1) (10000, 784) (10000, 1) (10000, 1, 28, 28) (10000, 1)\n"
     ]
    }
   ],
   "source": [
    "import pickle\n",
    "import gzip\n",
    "\n",
    "with gzip.open('mnist.pkl.gz', 'rb') as f:\n",
    "    train_set, valid_set, test_set = pickle.load(f, encoding='latin1')\n",
    "\n",
    "Xtrain = train_set[0]\n",
    "Ttrain = train_set[1].reshape(-1, 1)\n",
    "\n",
    "Xval = valid_set[0]\n",
    "Tval = valid_set[1].reshape(-1, 1)\n",
    "\n",
    "Xtest = test_set[0]\n",
    "Ttest = test_set[1].reshape(-1, 1)\n",
    "\n",
    "Xtrain = Xtrain.reshape(-1, 1, 28, 28)\n",
    "Xtest = Xtest.reshape(-1, 1, 28, 28)\n",
    "\n",
    "print(Xtrain.shape, Ttrain.shape,  Xval.shape, Tval.shape,  Xtest.shape, Ttest.shape)"
   ]
  },
  {
   "cell_type": "code",
   "execution_count": 4,
   "metadata": {},
   "outputs": [
    {
     "name": "stdout",
     "output_type": "stream",
     "text": [
      "Would you like to run on the GPU? (y or n): y\n",
      "Running on cuda:0\n"
     ]
    }
   ],
   "source": [
    "device = 'cpu'\n",
    "if torch.cuda.is_available():\n",
    "    y_or_n = input('Would you like to run on the GPU? (y or n): ')\n",
    "    if y_or_n == 'y' or y_or_n == 'yes':\n",
    "        device = torch.device('cuda:0' if torch.cuda.is_available() else 'cpu')\n",
    "print('Running on', device)"
   ]
  },
  {
   "cell_type": "code",
   "execution_count": 5,
   "metadata": {},
   "outputs": [
    {
     "data": {
      "text/plain": [
       "10"
      ]
     },
     "execution_count": 5,
     "metadata": {},
     "output_type": "execute_result"
    }
   ],
   "source": [
    "len(np.unique(Ttrain))"
   ]
  },
  {
   "cell_type": "code",
   "execution_count": 6,
   "metadata": {},
   "outputs": [
    {
     "name": "stdout",
     "output_type": "stream",
     "text": [
      "adam: Epoch 2 Loss 0.410\n",
      "adam: Epoch 4 Loss 0.273\n",
      "adam: Epoch 6 Loss 0.236\n",
      "adam: Epoch 8 Loss 0.212\n",
      "adam: Epoch 10 Loss 0.188\n",
      "adam: Epoch 12 Loss 0.178\n",
      "adam: Epoch 14 Loss 0.166\n",
      "adam: Epoch 16 Loss 0.162\n",
      "adam: Epoch 18 Loss 0.159\n",
      "adam: Epoch 20 Loss 0.154\n"
     ]
    },
    {
     "data": {
      "text/plain": [
       "Text(0.5, 1.0, 'MNIST')"
      ]
     },
     "execution_count": 6,
     "metadata": {},
     "output_type": "execute_result"
    },
    {
     "data": {
      "image/png": "[encoded data removed]",
      "text/plain": [
       "<Figure size 432x288 with 1 Axes>"
      ]
     },
     "metadata": {
      "needs_background": "light"
     },
     "output_type": "display_data"
    }
   ],
   "source": [
    "n_hiddens_per_conv_layer = [10, 10]\n",
    "patch_size_per_conv_layer = [10, 5]\n",
    "stride_per_conv_layer=[4, 2]\n",
    "n_hiddens_per_fc_layer = [5]\n",
    "\n",
    "cnnet = CNN2D(28 * 28, n_hiddens_per_conv_layer, n_hiddens_per_fc_layer, len(np.unique(Ttrain)), \n",
    "              patch_size_per_conv_layer, stride_per_conv_layer, device=device)\n",
    "\n",
    "n_epochs = 20\n",
    "batch_size = 500\n",
    "learning_rate = 0.01\n",
    "\n",
    "cnnet.train(Xtrain, Ttrain, batch_size, n_epochs, learning_rate, method='adam')\n",
    "\n",
    "plt.plot(cnnet.error_trace, label='Pytorch')\n",
    "plt.title('MNIST')"
   ]
  },
  {
   "cell_type": "code",
   "execution_count": 7,
   "metadata": {},
   "outputs": [],
   "source": [
    "def confusion_matrix(Y_classes, T):\n",
    "    class_names = np.unique(T)\n",
    "    table = []\n",
    "    for true_class in class_names:\n",
    "        row = []\n",
    "        for Y_class in class_names:\n",
    "            row.append(100 * np.mean(Y_classes[T == true_class] == Y_class))\n",
    "        table.append(row)\n",
    "    conf_matrix = pandas.DataFrame(table, index=class_names, columns=class_names)\n",
    "    return conf_matrix"
   ]
  },
  {
   "cell_type": "code",
   "execution_count": 8,
   "metadata": {},
   "outputs": [
    {
     "name": "stdout",
     "output_type": "stream",
     "text": [
      "Test accuracy in percent correct: 94.25\n"
     ]
    },
    {
     "data": {
      "text/html": [
       "<div>\n",
       "<style scoped>\n",
       "    .dataframe tbody tr th:only-of-type {\n",
       "        vertical-align: middle;\n",
       "    }\n",
       "\n",
       "    .dataframe tbody tr th {\n",
       "        vertical-align: top;\n",
       "    }\n",
       "\n",
       "    .dataframe thead th {\n",
       "        text-align: right;\n",
       "    }\n",
       "</style>\n",
       "<table border=\"1\" class=\"dataframe\">\n",
       "  <thead>\n",
       "    <tr style=\"text-align: right;\">\n",
       "      <th></th>\n",
       "      <th>0</th>\n",
       "      <th>1</th>\n",
       "      <th>2</th>\n",
       "      <th>3</th>\n",
       "      <th>4</th>\n",
       "      <th>5</th>\n",
       "      <th>6</th>\n",
       "      <th>7</th>\n",
       "      <th>8</th>\n",
       "      <th>9</th>\n",
       "    </tr>\n",
       "  </thead>\n",
       "  <tbody>\n",
       "    <tr>\n",
       "      <td>0</td>\n",
       "      <td>97.142857</td>\n",
       "      <td>0.000000</td>\n",
       "      <td>0.918367</td>\n",
       "      <td>0.000000</td>\n",
       "      <td>0.000000</td>\n",
       "      <td>0.408163</td>\n",
       "      <td>1.224490</td>\n",
       "      <td>0.204082</td>\n",
       "      <td>0.000000</td>\n",
       "      <td>0.102041</td>\n",
       "    </tr>\n",
       "    <tr>\n",
       "      <td>1</td>\n",
       "      <td>0.000000</td>\n",
       "      <td>97.533040</td>\n",
       "      <td>0.176211</td>\n",
       "      <td>0.352423</td>\n",
       "      <td>0.176211</td>\n",
       "      <td>0.000000</td>\n",
       "      <td>0.176211</td>\n",
       "      <td>0.264317</td>\n",
       "      <td>1.321586</td>\n",
       "      <td>0.000000</td>\n",
       "    </tr>\n",
       "    <tr>\n",
       "      <td>2</td>\n",
       "      <td>0.968992</td>\n",
       "      <td>0.484496</td>\n",
       "      <td>92.926357</td>\n",
       "      <td>1.259690</td>\n",
       "      <td>0.193798</td>\n",
       "      <td>0.096899</td>\n",
       "      <td>0.193798</td>\n",
       "      <td>1.937984</td>\n",
       "      <td>1.841085</td>\n",
       "      <td>0.096899</td>\n",
       "    </tr>\n",
       "    <tr>\n",
       "      <td>3</td>\n",
       "      <td>0.099010</td>\n",
       "      <td>0.099010</td>\n",
       "      <td>0.495050</td>\n",
       "      <td>95.445545</td>\n",
       "      <td>0.099010</td>\n",
       "      <td>1.188119</td>\n",
       "      <td>0.000000</td>\n",
       "      <td>1.386139</td>\n",
       "      <td>0.792079</td>\n",
       "      <td>0.396040</td>\n",
       "    </tr>\n",
       "    <tr>\n",
       "      <td>4</td>\n",
       "      <td>0.203666</td>\n",
       "      <td>0.000000</td>\n",
       "      <td>0.305499</td>\n",
       "      <td>0.000000</td>\n",
       "      <td>94.806517</td>\n",
       "      <td>0.000000</td>\n",
       "      <td>1.120163</td>\n",
       "      <td>0.509165</td>\n",
       "      <td>0.101833</td>\n",
       "      <td>2.953157</td>\n",
       "    </tr>\n",
       "    <tr>\n",
       "      <td>5</td>\n",
       "      <td>0.560538</td>\n",
       "      <td>0.448430</td>\n",
       "      <td>0.112108</td>\n",
       "      <td>3.811659</td>\n",
       "      <td>0.000000</td>\n",
       "      <td>90.919283</td>\n",
       "      <td>0.896861</td>\n",
       "      <td>0.224215</td>\n",
       "      <td>2.130045</td>\n",
       "      <td>0.896861</td>\n",
       "    </tr>\n",
       "    <tr>\n",
       "      <td>6</td>\n",
       "      <td>0.835073</td>\n",
       "      <td>0.521921</td>\n",
       "      <td>0.104384</td>\n",
       "      <td>0.000000</td>\n",
       "      <td>0.626305</td>\n",
       "      <td>0.835073</td>\n",
       "      <td>96.346555</td>\n",
       "      <td>0.104384</td>\n",
       "      <td>0.626305</td>\n",
       "      <td>0.000000</td>\n",
       "    </tr>\n",
       "    <tr>\n",
       "      <td>7</td>\n",
       "      <td>0.194553</td>\n",
       "      <td>0.875486</td>\n",
       "      <td>1.459144</td>\n",
       "      <td>1.848249</td>\n",
       "      <td>0.583658</td>\n",
       "      <td>0.097276</td>\n",
       "      <td>0.000000</td>\n",
       "      <td>92.607004</td>\n",
       "      <td>0.194553</td>\n",
       "      <td>2.140078</td>\n",
       "    </tr>\n",
       "    <tr>\n",
       "      <td>8</td>\n",
       "      <td>0.205339</td>\n",
       "      <td>0.924025</td>\n",
       "      <td>0.924025</td>\n",
       "      <td>1.745380</td>\n",
       "      <td>0.924025</td>\n",
       "      <td>1.334702</td>\n",
       "      <td>1.129363</td>\n",
       "      <td>0.102669</td>\n",
       "      <td>91.991786</td>\n",
       "      <td>0.718686</td>\n",
       "    </tr>\n",
       "    <tr>\n",
       "      <td>9</td>\n",
       "      <td>0.891972</td>\n",
       "      <td>0.495540</td>\n",
       "      <td>0.000000</td>\n",
       "      <td>0.891972</td>\n",
       "      <td>2.775025</td>\n",
       "      <td>0.693756</td>\n",
       "      <td>0.000000</td>\n",
       "      <td>1.585728</td>\n",
       "      <td>0.495540</td>\n",
       "      <td>92.170466</td>\n",
       "    </tr>\n",
       "  </tbody>\n",
       "</table>\n",
       "</div>"
      ],
      "text/plain": [
       "           0          1          2          3          4          5  \\\n",
       "0  97.142857   0.000000   0.918367   0.000000   0.000000   0.408163   \n",
       "1   0.000000  97.533040   0.176211   0.352423   0.176211   0.000000   \n",
       "2   0.968992   0.484496  92.926357   1.259690   0.193798   0.096899   \n",
       "3   0.099010   0.099010   0.495050  95.445545   0.099010   1.188119   \n",
       "4   0.203666   0.000000   0.305499   0.000000  94.806517   0.000000   \n",
       "5   0.560538   0.448430   0.112108   3.811659   0.000000  90.919283   \n",
       "6   0.835073   0.521921   0.104384   0.000000   0.626305   0.835073   \n",
       "7   0.194553   0.875486   1.459144   1.848249   0.583658   0.097276   \n",
       "8   0.205339   0.924025   0.924025   1.745380   0.924025   1.334702   \n",
       "9   0.891972   0.495540   0.000000   0.891972   2.775025   0.693756   \n",
       "\n",
       "           6          7          8          9  \n",
       "0   1.224490   0.204082   0.000000   0.102041  \n",
       "1   0.176211   0.264317   1.321586   0.000000  \n",
       "2   0.193798   1.937984   1.841085   0.096899  \n",
       "3   0.000000   1.386139   0.792079   0.396040  \n",
       "4   1.120163   0.509165   0.101833   2.953157  \n",
       "5   0.896861   0.224215   2.130045   0.896861  \n",
       "6  96.346555   0.104384   0.626305   0.000000  \n",
       "7   0.000000  92.607004   0.194553   2.140078  \n",
       "8   1.129363   0.102669  91.991786   0.718686  \n",
       "9   0.000000   1.585728   0.495540  92.170466  "
      ]
     },
     "execution_count": 8,
     "metadata": {},
     "output_type": "execute_result"
    }
   ],
   "source": [
    "Classes, _ = cnnet.use(Xtest)\n",
    "perc_correct = 100 * np.mean(Classes == Ttest)\n",
    "print(f'Test accuracy in percent correct: {perc_correct:.2f}')\n",
    "confusion_matrix(Classes, Ttest)"
   ]
  },
  {
   "cell_type": "markdown",
   "metadata": {},
   "source": [
    "### Experiments\n",
    "\n",
    "To explore the effects of different CNN structures, show results for the following steps.  For each use the same number of epochs, batch size, and learning rate as used above.\n",
    "\n",
    "1. Compare test accuracy of CNN2D nets with one, two and three convolutional layers, each with 10 units and patch sizes of 5 and strides of 2.\n",
    "2. Using the best number of convolutional layers found in Step 1, compare the test accuracies of CNN2d nets with zero, one, and two fully-connected layers each with 10 hidden units.\n",
    "\n",
    "Combine the results of each of your runs and display them in a `pandas.Dataframe` that includes the network structure and percent correct on train and test sets. Discuss your results, and describe the network structure and training parameters that produced the best test results."
   ]
  },
  {
   "cell_type": "code",
   "execution_count": 9,
   "metadata": {},
   "outputs": [
    {
     "name": "stdout",
     "output_type": "stream",
     "text": [
      "adam: Epoch 2 Loss 0.342\n",
      "adam: Epoch 4 Loss 0.242\n",
      "adam: Epoch 6 Loss 0.191\n",
      "adam: Epoch 8 Loss 0.166\n",
      "adam: Epoch 10 Loss 0.158\n",
      "adam: Epoch 12 Loss 0.140\n",
      "adam: Epoch 14 Loss 0.126\n",
      "adam: Epoch 16 Loss 0.126\n",
      "adam: Epoch 18 Loss 0.116\n",
      "adam: Epoch 20 Loss 0.129\n",
      "Test accuracy in percent correct: 95.71\n",
      "Train accuracy in percent correct: 96.34\n"
     ]
    }
   ],
   "source": [
    "#MNIST EXPERIMENT 1\n",
    "n_hiddens_per_conv_layer = [10]\n",
    "patch_size_per_conv_layer = [5]\n",
    "stride_per_conv_layer=[2]\n",
    "n_hiddens_per_fc_layer = [10]\n",
    "\n",
    "n_epochs = 20\n",
    "batch_size = 500\n",
    "learning_rate = 0.01\n",
    "\n",
    "cnnet = CNN2D(28 * 28, n_hiddens_per_conv_layer, n_hiddens_per_fc_layer, len(np.unique(Ttrain)), \n",
    "              patch_size_per_conv_layer, stride_per_conv_layer, device=device)\n",
    "\n",
    "cnnet.train(Xtrain, Ttrain, batch_size, n_epochs, learning_rate, method='adam')\n",
    "\n",
    "results = []\n",
    "\n",
    "sub_result = []\n",
    "sub_result.append(n_hiddens_per_conv_layer)\n",
    "Classes, _ = cnnet.use(Xtest)\n",
    "perc_correct = 100 * np.mean(Classes == Ttest)\n",
    "sub_result.append(perc_correct)\n",
    "print(f'Test accuracy in percent correct: {perc_correct:.2f}')\n",
    "Classes, _ = cnnet.use(Xtrain)\n",
    "perc_correct = 100 * np.mean(Classes == Ttrain)\n",
    "sub_result.append(perc_correct)\n",
    "print(f'Train accuracy in percent correct: {perc_correct:.2f}')\n",
    "results.append(sub_result)"
   ]
  },
  {
   "cell_type": "code",
   "execution_count": 10,
   "metadata": {},
   "outputs": [
    {
     "name": "stdout",
     "output_type": "stream",
     "text": [
      "adam: Epoch 2 Loss 0.239\n",
      "adam: Epoch 4 Loss 0.138\n",
      "adam: Epoch 6 Loss 0.116\n",
      "adam: Epoch 8 Loss 0.108\n",
      "adam: Epoch 10 Loss 0.099\n",
      "adam: Epoch 12 Loss 0.102\n",
      "adam: Epoch 14 Loss 0.091\n",
      "adam: Epoch 16 Loss 0.087\n",
      "adam: Epoch 18 Loss 0.090\n",
      "adam: Epoch 20 Loss 0.090\n",
      "Test accuracy in percent correct: 96.42\n",
      "Train accuracy in percent correct: 97.43\n"
     ]
    }
   ],
   "source": [
    "#MNIST EXPERIMENT 2\n",
    "n_hiddens_per_conv_layer = [10, 10]\n",
    "patch_size_per_conv_layer = [5, 5]\n",
    "stride_per_conv_layer=[2, 2]\n",
    "n_hiddens_per_fc_layer = [10]\n",
    "\n",
    "n_epochs = 20\n",
    "batch_size = 500\n",
    "learning_rate = 0.01\n",
    "\n",
    "cnnet = CNN2D(28 * 28, n_hiddens_per_conv_layer, n_hiddens_per_fc_layer, len(np.unique(Ttrain)), \n",
    "              patch_size_per_conv_layer, stride_per_conv_layer, device=device)\n",
    "\n",
    "cnnet.train(Xtrain, Ttrain, batch_size, n_epochs, learning_rate, method='adam')\n",
    "\n",
    "sub_result = []\n",
    "sub_result.append(n_hiddens_per_conv_layer)\n",
    "Classes, _ = cnnet.use(Xtest)\n",
    "perc_correct = 100 * np.mean(Classes == Ttest)\n",
    "sub_result.append(perc_correct)\n",
    "print(f'Test accuracy in percent correct: {perc_correct:.2f}')\n",
    "Classes, _ = cnnet.use(Xtrain)\n",
    "perc_correct = 100 * np.mean(Classes == Ttrain)\n",
    "sub_result.append(perc_correct)\n",
    "print(f'Train accuracy in percent correct: {perc_correct:.2f}')\n",
    "results.append(sub_result)"
   ]
  },
  {
   "cell_type": "code",
   "execution_count": 11,
   "metadata": {},
   "outputs": [
    {
     "name": "stdout",
     "output_type": "stream",
     "text": [
      "adam: Epoch 2 Loss 0.288\n",
      "adam: Epoch 4 Loss 0.190\n",
      "adam: Epoch 6 Loss 0.155\n",
      "adam: Epoch 8 Loss 0.138\n",
      "adam: Epoch 10 Loss 0.132\n",
      "adam: Epoch 12 Loss 0.131\n",
      "adam: Epoch 14 Loss 0.122\n",
      "adam: Epoch 16 Loss 0.114\n",
      "adam: Epoch 18 Loss 0.114\n",
      "adam: Epoch 20 Loss 0.117\n",
      "Test accuracy in percent correct: 96.03\n",
      "Train accuracy in percent correct: 96.77\n"
     ]
    }
   ],
   "source": [
    "#MNIST EXPERIMENT 3\n",
    "n_hiddens_per_conv_layer = [10, 10, 10]\n",
    "#HAD TO CHANGE PATCH SIZE FROM [5, 5, 5]\n",
    "patch_size_per_conv_layer = [4, 4, 4]\n",
    "stride_per_conv_layer=[2, 2, 2]\n",
    "n_hiddens_per_fc_layer = [10]\n",
    "\n",
    "n_epochs = 20\n",
    "batch_size = 500\n",
    "learning_rate = 0.01\n",
    "\n",
    "cnnet = CNN2D(28 * 28, n_hiddens_per_conv_layer, n_hiddens_per_fc_layer, len(np.unique(Ttrain)), \n",
    "              patch_size_per_conv_layer, stride_per_conv_layer, device=device)\n",
    "\n",
    "cnnet.train(Xtrain, Ttrain, batch_size, n_epochs, learning_rate, method='adam')\n",
    "\n",
    "sub_result = []\n",
    "sub_result.append(n_hiddens_per_conv_layer)\n",
    "Classes, _ = cnnet.use(Xtest)\n",
    "perc_correct = 100 * np.mean(Classes == Ttest)\n",
    "sub_result.append(perc_correct)\n",
    "print(f'Test accuracy in percent correct: {perc_correct:.2f}')\n",
    "Classes, _ = cnnet.use(Xtrain)\n",
    "perc_correct = 100 * np.mean(Classes == Ttrain)\n",
    "sub_result.append(perc_correct)\n",
    "print(f'Train accuracy in percent correct: {perc_correct:.2f}')\n",
    "results.append(sub_result)"
   ]
  },
  {
   "cell_type": "code",
   "execution_count": 12,
   "metadata": {},
   "outputs": [
    {
     "name": "stdout",
     "output_type": "stream",
     "text": [
      "  Network Structure  Test Percent Correct  Train percent Correct\n",
      "0              [10]                 95.71                 96.344\n",
      "1          [10, 10]                 96.42                 97.428\n",
      "2      [10, 10, 10]                 96.03                 96.770\n"
     ]
    }
   ],
   "source": [
    "#MNIST EXPERIMENT RESULTS 1\n",
    "#print(results)\n",
    "#NOTE: HAD TO CHANGE PATCH SIZE FOR [10, 10, 10] NETWORK\n",
    "MNIST_results = pandas.DataFrame(results)\n",
    "MNIST_results.columns = ['Network Structure', 'Test Percent Correct', 'Train percent Correct']\n",
    "print(MNIST_results)\n",
    "#FOUND [10, 10] NETWORK TO HAVE BEST TEST PERCENT CORRECT"
   ]
  },
  {
   "cell_type": "code",
   "execution_count": 13,
   "metadata": {},
   "outputs": [
    {
     "name": "stdout",
     "output_type": "stream",
     "text": [
      "adam: Epoch 2 Loss 0.181\n",
      "adam: Epoch 4 Loss 0.106\n",
      "adam: Epoch 6 Loss 0.078\n",
      "adam: Epoch 8 Loss 0.065\n",
      "adam: Epoch 10 Loss 0.064\n",
      "adam: Epoch 12 Loss 0.060\n",
      "adam: Epoch 14 Loss 0.051\n",
      "adam: Epoch 16 Loss 0.049\n",
      "adam: Epoch 18 Loss 0.047\n",
      "adam: Epoch 20 Loss 0.046\n",
      "Test accuracy in percent correct: 97.38\n",
      "Train accuracy in percent correct: 98.44\n"
     ]
    }
   ],
   "source": [
    "#MNIST EXPERIMENT 4\n",
    "n_hiddens_per_conv_layer = [10, 10]\n",
    "patch_size_per_conv_layer = [5, 5]\n",
    "stride_per_conv_layer=[2, 2]\n",
    "n_hiddens_per_fc_layer = []\n",
    "\n",
    "n_epochs = 20\n",
    "batch_size = 500\n",
    "learning_rate = 0.01\n",
    "\n",
    "cnnet = CNN2D(28 * 28, n_hiddens_per_conv_layer, n_hiddens_per_fc_layer, len(np.unique(Ttrain)), \n",
    "              patch_size_per_conv_layer, stride_per_conv_layer, device=device)\n",
    "\n",
    "cnnet.train(Xtrain, Ttrain, batch_size, n_epochs, learning_rate, method='adam')\n",
    "\n",
    "results2 = []\n",
    "\n",
    "sub_result2 = []\n",
    "sub_result2.append(n_hiddens_per_fc_layer)\n",
    "Classes, _ = cnnet.use(Xtest)\n",
    "perc_correct = 100 * np.mean(Classes == Ttest)\n",
    "sub_result2.append(perc_correct)\n",
    "print(f'Test accuracy in percent correct: {perc_correct:.2f}')\n",
    "Classes, _ = cnnet.use(Xtrain)\n",
    "perc_correct = 100 * np.mean(Classes == Ttrain)\n",
    "sub_result2.append(perc_correct)\n",
    "print(f'Train accuracy in percent correct: {perc_correct:.2f}')\n",
    "results2.append(sub_result2)"
   ]
  },
  {
   "cell_type": "code",
   "execution_count": 14,
   "metadata": {},
   "outputs": [
    {
     "name": "stdout",
     "output_type": "stream",
     "text": [
      "adam: Epoch 2 Loss 0.233\n",
      "adam: Epoch 4 Loss 0.145\n",
      "adam: Epoch 6 Loss 0.124\n",
      "adam: Epoch 8 Loss 0.112\n",
      "adam: Epoch 10 Loss 0.104\n",
      "adam: Epoch 12 Loss 0.098\n",
      "adam: Epoch 14 Loss 0.099\n",
      "adam: Epoch 16 Loss 0.092\n",
      "adam: Epoch 18 Loss 0.090\n",
      "adam: Epoch 20 Loss 0.086\n",
      "Test accuracy in percent correct: 96.57\n",
      "Train accuracy in percent correct: 97.59\n"
     ]
    }
   ],
   "source": [
    "#MNIST EXPERIMENT 5\n",
    "n_hiddens_per_conv_layer = [10, 10]\n",
    "patch_size_per_conv_layer = [5, 5]\n",
    "stride_per_conv_layer=[2, 2]\n",
    "n_hiddens_per_fc_layer = [10]\n",
    "\n",
    "n_epochs = 20\n",
    "batch_size = 500\n",
    "learning_rate = 0.01\n",
    "\n",
    "cnnet = CNN2D(28 * 28, n_hiddens_per_conv_layer, n_hiddens_per_fc_layer, len(np.unique(Ttrain)), \n",
    "              patch_size_per_conv_layer, stride_per_conv_layer, device=device)\n",
    "\n",
    "cnnet.train(Xtrain, Ttrain, batch_size, n_epochs, learning_rate, method='adam')\n",
    "\n",
    "sub_result2 = []\n",
    "sub_result2.append(n_hiddens_per_fc_layer)\n",
    "Classes, _ = cnnet.use(Xtest)\n",
    "perc_correct = 100 * np.mean(Classes == Ttest)\n",
    "sub_result2.append(perc_correct)\n",
    "print(f'Test accuracy in percent correct: {perc_correct:.2f}')\n",
    "Classes, _ = cnnet.use(Xtrain)\n",
    "perc_correct = 100 * np.mean(Classes == Ttrain)\n",
    "sub_result2.append(perc_correct)\n",
    "print(f'Train accuracy in percent correct: {perc_correct:.2f}')\n",
    "results2.append(sub_result2)"
   ]
  },
  {
   "cell_type": "code",
   "execution_count": 15,
   "metadata": {},
   "outputs": [
    {
     "name": "stdout",
     "output_type": "stream",
     "text": [
      "adam: Epoch 2 Loss 0.316\n",
      "adam: Epoch 4 Loss 0.192\n",
      "adam: Epoch 6 Loss 0.157\n",
      "adam: Epoch 8 Loss 0.144\n",
      "adam: Epoch 10 Loss 0.139\n",
      "adam: Epoch 12 Loss 0.119\n",
      "adam: Epoch 14 Loss 0.120\n",
      "adam: Epoch 16 Loss 0.115\n",
      "adam: Epoch 18 Loss 0.104\n",
      "adam: Epoch 20 Loss 0.106\n",
      "Test accuracy in percent correct: 96.04\n",
      "Train accuracy in percent correct: 97.21\n"
     ]
    }
   ],
   "source": [
    "#MNIST EXPERIMENT 6\n",
    "n_hiddens_per_conv_layer = [10, 10]\n",
    "patch_size_per_conv_layer = [5, 5]\n",
    "stride_per_conv_layer=[2, 2]\n",
    "n_hiddens_per_fc_layer = [10, 10]\n",
    "\n",
    "n_epochs = 20\n",
    "batch_size = 500\n",
    "learning_rate = 0.01\n",
    "\n",
    "cnnet = CNN2D(28 * 28, n_hiddens_per_conv_layer, n_hiddens_per_fc_layer, len(np.unique(Ttrain)), \n",
    "              patch_size_per_conv_layer, stride_per_conv_layer, device=device)\n",
    "\n",
    "cnnet.train(Xtrain, Ttrain, batch_size, n_epochs, learning_rate, method='adam')\n",
    "\n",
    "sub_result2 = []\n",
    "sub_result2.append(n_hiddens_per_fc_layer)\n",
    "Classes, _ = cnnet.use(Xtest)\n",
    "perc_correct = 100 * np.mean(Classes == Ttest)\n",
    "sub_result2.append(perc_correct)\n",
    "print(f'Test accuracy in percent correct: {perc_correct:.2f}')\n",
    "Classes, _ = cnnet.use(Xtrain)\n",
    "perc_correct = 100 * np.mean(Classes == Ttrain)\n",
    "sub_result2.append(perc_correct)\n",
    "print(f'Train accuracy in percent correct: {perc_correct:.2f}')\n",
    "results2.append(sub_result2)"
   ]
  },
  {
   "cell_type": "code",
   "execution_count": 16,
   "metadata": {},
   "outputs": [
    {
     "name": "stdout",
     "output_type": "stream",
     "text": [
      "Results for part 1:\n",
      "  Network Structure  Test Percent Correct  Train percent Correct\n",
      "0              [10]                 95.71                 96.344\n",
      "1          [10, 10]                 96.42                 97.428\n",
      "2      [10, 10, 10]                 96.03                 96.770\n",
      "Results for part 2:\n",
      "  Network Structure  Test Percent Correct  Train percent Correct\n",
      "0                []                 97.38                 98.438\n",
      "1              [10]                 96.57                 97.594\n",
      "2          [10, 10]                 96.04                 97.212\n"
     ]
    }
   ],
   "source": [
    "#MNIST EXPERIMENT RESULTS 2\n",
    "#print(results2)\n",
    "print('Results for part 1:')\n",
    "print(MNIST_results)\n",
    "print('Results for part 2:')\n",
    "MNIST_results2 = pandas.DataFrame(results2)\n",
    "MNIST_results2.columns = ['Network Structure', 'Test Percent Correct', 'Train percent Correct']\n",
    "print(MNIST_results2)\n",
    "#FOUND [] NETWORK TO HAVE BEST TEST PERCENT CORRECT"
   ]
  },
  {
   "cell_type": "markdown",
   "metadata": {},
   "source": [
    "## CNN2D Results Discussion\n",
    "\n",
    "Part 1:\n",
    "\n",
    "The network I found to have the best test accuracy was one with 2 convolutional layers, with an accuracy of 96.42 percent correct on the test data.  The one and three convolutional layer networks had 95.71 and 96.03 percent correct on the test data respectively.  Although the directions were to use a patch size of 5, I was unable to get a 3 convolutional layer network to work with a patch size of 5, so I used a patch size of 4 instead to get it to work.  Overall the difference in test percent correct between the networks was rather small, ranging from 0.39 to 0.71 percent.\n",
    "\n",
    "Part 2:\n",
    "\n",
    "The network I found to have the best test accuracy for part 2 was the network with zero fully-connected layers, with a test accuracy of 97.38 percent.  The second best network I had for part 2 was one with one fully-connected layer, with a test percent correct of 96.57. The worst network I had for part 2 was one with two fully-connected layers, with a test percent correct of 96.04.  The difference between the best network and other networks was much larger for this part, with the best network being a whole 0.81 percent better than the second best.  The other two networks were 0.53 percent apart. Overall the best network I trained had: n_hidden_per_conv_layer = [10, 10], patch_size_per_conv_layer = [5, 5], stride_per_conv_layer = [2, 2] and n_hiddens_per_fc_layer = []."
   ]
  },
  {
   "cell_type": "markdown",
   "metadata": {},
   "source": [
    "## CNN1D\n",
    "\n",
    "Complete the following code cell to define `CNN1D`.  The only change from `CNN2D` that is required is in the constructor.  Complete these steps.\n",
    "\n",
    "1. Copy the `__init__` function from `CNN2D`.\n",
    "2. For each convolutional layer, create a `torch.nn.Conv1d` object instead of a `torch.nn.Conv2d` object.\n",
    "3. Modify the statement `input_hw = int(np.sqrt(n_inputs))` appropriately.\n",
    "4. Modify the statement `n_in = input_hw ** 2 * n_in` appropriately."
   ]
  },
  {
   "cell_type": "code",
   "execution_count": 17,
   "metadata": {},
   "outputs": [],
   "source": [
    "class CNN1D(CNN2D):\n",
    "\n",
    "    def make_conv_and_fc_layers(self, n_inputs, n_hiddens_per_conv_layer, n_hiddens_per_fc_layer, n_outputs,\n",
    "                                patch_size_per_conv_layer, stride_per_conv_layer):\n",
    "        # Create all convolutional layers\n",
    "        # First argument to first Conv2d is number of channels for each pixel.\n",
    "        # Just 1 for our grayscale images.\n",
    "        n_in = 1\n",
    "        # original input image height (=width because image assumed square)\n",
    "        input_hw = int((n_inputs))\n",
    "        self.conv_layers = torch.nn.ModuleList()\n",
    "        layeri = 0\n",
    "        for nh, patch_size, stride in zip(n_hiddens_per_conv_layer,\n",
    "                                          patch_size_per_conv_layer,\n",
    "                                          stride_per_conv_layer):\n",
    "            self.conv_layers.append(torch.nn.Conv1d(n_in, nh, kernel_size=patch_size, stride=stride))\n",
    "            conv_layer_output_hw = (input_hw - patch_size) // stride + 1\n",
    "            if conv_layer_output_hw <= 0:\n",
    "                raise Exception(f'''For conv layer {layeri}, input_hw of {input_hw} is less than patch_size {patch_size}.\n",
    "Try reducing the patch_size for this layer or for the previous layer.''')\n",
    "            input_hw = conv_layer_output_hw  # for next trip through this loop\n",
    "            n_in = nh\n",
    "            layeri += 1\n",
    "           \n",
    "        # Create all fully connected layers.  First must determine number of inputs to first\n",
    "        # fully-connected layer that results from flattening the images coming out of the last\n",
    "        # convolutional layer.\n",
    "        n_in = input_hw * n_in\n",
    "        self.fc_layers = torch.nn.ModuleList()\n",
    "        for nh in n_hiddens_per_fc_layer:\n",
    "            self.fc_layers.append(torch.nn.Linear(n_in, nh))\n",
    "            n_in = nh\n",
    "        self.fc_layers.append(torch.nn.Linear(n_in, n_outputs))\n",
    "\n",
    "        "
   ]
  },
  {
   "cell_type": "markdown",
   "metadata": {},
   "source": [
    "### Toy Data to Test `CNN1D`\n",
    "\n",
    "Here is some toy data to test your `CNN1D` definition.  Each sample is now 1-dimensional.  Let's make vectors of two kinds, ones with square pulses and ones with triangular pulses, at random locations and random durations. Both kinds will be 100 values, with zeros between the waves long."
   ]
  },
  {
   "cell_type": "code",
   "execution_count": 18,
   "metadata": {},
   "outputs": [],
   "source": [
    "def make_square_pulse():\n",
    "    sample = np.zeros(100)\n",
    "    for i in range(np.random.randint(1, 5)):  # making from 1 to 4 pulses\n",
    "        start = np.random.randint(0, 80)\n",
    "        width = np.random.randint(5, 20)\n",
    "        sample[start:start + width] = 1\n",
    "    return sample"
   ]
  },
  {
   "cell_type": "code",
   "execution_count": 19,
   "metadata": {},
   "outputs": [
    {
     "data": {
      "text/plain": [
       "array([0., 1., 1., 1., 1., 1., 1., 1., 1., 1., 1., 1., 1., 1., 1., 1., 1.,\n",
       "       1., 1., 0., 0., 0., 0., 1., 1., 1., 1., 1., 1., 1., 0., 0., 0., 0.,\n",
       "       0., 0., 0., 0., 1., 1., 1., 1., 1., 1., 1., 1., 1., 1., 1., 1., 1.,\n",
       "       0., 0., 0., 0., 0., 0., 0., 0., 0., 0., 0., 0., 0., 0., 0., 0., 0.,\n",
       "       0., 0., 0., 0., 0., 0., 0., 0., 0., 0., 0., 0., 0., 0., 0., 0., 0.,\n",
       "       0., 0., 0., 0., 0., 0., 0., 0., 0., 0., 0., 0., 0., 0., 0.])"
      ]
     },
     "execution_count": 19,
     "metadata": {},
     "output_type": "execute_result"
    }
   ],
   "source": [
    "make_square_pulse()"
   ]
  },
  {
   "cell_type": "code",
   "execution_count": 20,
   "metadata": {
    "scrolled": true
   },
   "outputs": [
    {
     "data": {
      "image/png": "[encoded data removed]",
      "text/plain": [
       "<Figure size 432x288 with 1 Axes>"
      ]
     },
     "metadata": {
      "needs_background": "light"
     },
     "output_type": "display_data"
    }
   ],
   "source": [
    "plt.plot(make_square_pulse());"
   ]
  },
  {
   "cell_type": "code",
   "execution_count": 21,
   "metadata": {},
   "outputs": [],
   "source": [
    "def make_triangular_pulse():\n",
    "    sample = np.zeros(100)\n",
    "    for i in range(np.random.randint(1, 5)):  # making from 1 to 4 pulses\n",
    "        start = np.random.randint(0, 80)\n",
    "        width = np.random.randint(5, 20)\n",
    "        if width % 2 == 1:\n",
    "            width += 1  # if odd, make it even\n",
    "        sample[start:start + width // 2] = np.linspace(0, 1, width // 2)\n",
    "        sample[start + width // 2:start + width] = np.linspace(1, 0, width // 2)\n",
    "    return sample"
   ]
  },
  {
   "cell_type": "code",
   "execution_count": 22,
   "metadata": {
    "scrolled": true
   },
   "outputs": [
    {
     "data": {
      "image/png": "[encoded data removed]",
      "text/plain": [
       "<Figure size 432x288 with 1 Axes>"
      ]
     },
     "metadata": {
      "needs_background": "light"
     },
     "output_type": "display_data"
    }
   ],
   "source": [
    "plt.plot(make_triangular_pulse());"
   ]
  },
  {
   "cell_type": "code",
   "execution_count": 23,
   "metadata": {},
   "outputs": [
    {
     "data": {
      "text/plain": [
       "((1000, 100), (1000, 1), (1000, 100), (1000, 1))"
      ]
     },
     "execution_count": 23,
     "metadata": {},
     "output_type": "execute_result"
    }
   ],
   "source": [
    "n_each = 500\n",
    "Xtrain = np.array([make_square_pulse() for i in range(n_each)] +\n",
    "                   [make_triangular_pulse() for i in range(n_each)])\n",
    "Ttrain = np.array(['square'] * n_each + ['triangular'] * n_each).reshape(-1, 1)\n",
    "n_each = 500\n",
    "Xtest = np.array([make_square_pulse() for i in range(n_each)] +\n",
    "                   [make_triangular_pulse() for i in range(n_each)])\n",
    "Ttest = np.array(['square'] * n_each + ['triangular'] * n_each).reshape(-1, 1)\n",
    "Xtrain.shape, Ttrain.shape, Xtest.shape, Ttest.shape"
   ]
  },
  {
   "cell_type": "code",
   "execution_count": 24,
   "metadata": {},
   "outputs": [
    {
     "data": {
      "text/plain": [
       "True"
      ]
     },
     "execution_count": 24,
     "metadata": {},
     "output_type": "execute_result"
    }
   ],
   "source": [
    "np.newaxis == None"
   ]
  },
  {
   "cell_type": "code",
   "execution_count": 25,
   "metadata": {},
   "outputs": [
    {
     "data": {
      "text/plain": [
       "(1000, 1, 100)"
      ]
     },
     "execution_count": 25,
     "metadata": {},
     "output_type": "execute_result"
    }
   ],
   "source": [
    "Xtrain = Xtrain[:, None, :]\n",
    "Xtrain.shape"
   ]
  },
  {
   "cell_type": "code",
   "execution_count": 26,
   "metadata": {},
   "outputs": [
    {
     "data": {
      "text/plain": [
       "((1000, 1, 100), (1000, 1, 100))"
      ]
     },
     "execution_count": 26,
     "metadata": {},
     "output_type": "execute_result"
    }
   ],
   "source": [
    "Xtrain = Xtrain.reshape(Xtrain.shape[0], 1, -1)\n",
    "Xtest = Xtest.reshape(Xtest.shape[0], 1, -1)\n",
    "Xtrain.shape, Xtest.shape"
   ]
  },
  {
   "cell_type": "code",
   "execution_count": 27,
   "metadata": {},
   "outputs": [
    {
     "name": "stdout",
     "output_type": "stream",
     "text": [
      "adam: Epoch 10 Loss 0.542\n",
      "adam: Epoch 20 Loss 0.377\n",
      "adam: Epoch 30 Loss 0.174\n",
      "adam: Epoch 40 Loss 0.066\n",
      "adam: Epoch 50 Loss 0.024\n",
      "adam: Epoch 60 Loss 0.013\n",
      "adam: Epoch 70 Loss 0.036\n",
      "adam: Epoch 80 Loss 0.006\n",
      "adam: Epoch 90 Loss 0.004\n",
      "adam: Epoch 100 Loss 0.002\n"
     ]
    },
    {
     "data": {
      "text/plain": [
       "Text(0.5, 1.0, 'Pulses')"
      ]
     },
     "execution_count": 27,
     "metadata": {},
     "output_type": "execute_result"
    },
    {
     "data": {
      "image/png": "[encoded data removed]",
      "text/plain": [
       "<Figure size 432x288 with 1 Axes>"
      ]
     },
     "metadata": {
      "needs_background": "light"
     },
     "output_type": "display_data"
    }
   ],
   "source": [
    "cnnet1 = CNN1D(100, [10, 5], [5, 5], 2, [10, 4], [1, 2], device=device)\n",
    "\n",
    "n_epochs = 100\n",
    "batch_size = 10\n",
    "learning_rate = 0.001\n",
    "\n",
    "cnnet1.train(Xtrain, Ttrain, batch_size, n_epochs, learning_rate, method='adam')\n",
    "\n",
    "plt.plot(cnnet1.error_trace, label='Pytorch')\n",
    "plt.title('Pulses')"
   ]
  },
  {
   "cell_type": "code",
   "execution_count": 28,
   "metadata": {},
   "outputs": [
    {
     "name": "stdout",
     "output_type": "stream",
     "text": [
      "Test accuracy in percent correct: 98.90\n"
     ]
    },
    {
     "data": {
      "text/html": [
       "<div>\n",
       "<style scoped>\n",
       "    .dataframe tbody tr th:only-of-type {\n",
       "        vertical-align: middle;\n",
       "    }\n",
       "\n",
       "    .dataframe tbody tr th {\n",
       "        vertical-align: top;\n",
       "    }\n",
       "\n",
       "    .dataframe thead th {\n",
       "        text-align: right;\n",
       "    }\n",
       "</style>\n",
       "<table border=\"1\" class=\"dataframe\">\n",
       "  <thead>\n",
       "    <tr style=\"text-align: right;\">\n",
       "      <th></th>\n",
       "      <th>square</th>\n",
       "      <th>triangular</th>\n",
       "    </tr>\n",
       "  </thead>\n",
       "  <tbody>\n",
       "    <tr>\n",
       "      <td>square</td>\n",
       "      <td>97.8</td>\n",
       "      <td>2.2</td>\n",
       "    </tr>\n",
       "    <tr>\n",
       "      <td>triangular</td>\n",
       "      <td>0.0</td>\n",
       "      <td>100.0</td>\n",
       "    </tr>\n",
       "  </tbody>\n",
       "</table>\n",
       "</div>"
      ],
      "text/plain": [
       "            square  triangular\n",
       "square        97.8         2.2\n",
       "triangular     0.0       100.0"
      ]
     },
     "execution_count": 28,
     "metadata": {},
     "output_type": "execute_result"
    }
   ],
   "source": [
    "Classes, _ = cnnet1.use(Xtest)\n",
    "perc_correct = 100 * np.mean(Classes == Ttest)\n",
    "print(f'Test accuracy in percent correct: {perc_correct:.2f}')\n",
    "confusion_matrix(Classes, Ttest)"
   ]
  },
  {
   "cell_type": "code",
   "execution_count": 29,
   "metadata": {},
   "outputs": [
    {
     "data": {
      "text/plain": [
       "torch.Size([10, 10])"
      ]
     },
     "execution_count": 29,
     "metadata": {},
     "output_type": "execute_result"
    },
    {
     "data": {
      "image/png": "[encoded data removed]",
      "text/plain": [
       "<Figure size 432x288 with 1 Axes>"
      ]
     },
     "metadata": {
      "needs_background": "light"
     },
     "output_type": "display_data"
    }
   ],
   "source": [
    "W = list(cnnet1.children())[0][0].weight.data.cpu()  # in case running on GPU\n",
    "plt.plot(W[:, 0, :].T);\n",
    "W[:, 0, :].T.shape"
   ]
  },
  {
   "cell_type": "markdown",
   "metadata": {},
   "source": [
    "### Experiments on ECG Data"
   ]
  },
  {
   "cell_type": "markdown",
   "metadata": {},
   "source": [
    "An [electrocardiogram](), or ECG, is a record in time of a voltage generated by the heart.  It can be used to diagnose abnormalities in the heart.\n",
    "\n",
    "Public datasets containing ECG traces are available, such as the [Non-Invasive Fetal ECG Arrhythmia Database](https://physionet.org/content/nifeadb/1.0.0/) site. The data files there are in a standard waveform-database (WFDB) format.  As is often the case for most standard data formats you run in to, a python package exists for reading this data, called [wfdb](https://github.com/MIT-LCP/wfdb-python) that you can install using [conda](https://anaconda.org/conda-forge/wfdb).\n",
    "\n",
    "This data set includes ECG from normal patients and from ones with arrythmias, with data file names like `ARR_01.dat` and `NR_01.dat`, respectively.  We have already downloaded these files, read them in using the `wfdb` package and collected them into segments of 2000 voltages.  The sample rate for this data is 1000 Hz, so 2000 voltages spans 2 seconds. Download this data set from [ecg.npy](https://www.cs.colostate.edu/~anderson/cs445/notebooks/ecg.npy) \n",
    "\n",
    "Now, our job for our `CNN1D` is to classify each 2000 sample segment into the classes `normal` or `arrythmia`."
   ]
  },
  {
   "cell_type": "markdown",
   "metadata": {},
   "source": [
    "After you have downloaded `ecg.npy`, you can load it and plot a few samples."
   ]
  },
  {
   "cell_type": "code",
   "execution_count": 30,
   "metadata": {},
   "outputs": [
    {
     "data": {
      "text/plain": [
       "((2429, 2000), (3634, 2000))"
      ]
     },
     "execution_count": 30,
     "metadata": {},
     "output_type": "execute_result"
    }
   ],
   "source": [
    "ecg = np.load('ecg.npy')\n",
    "arr = ecg['arrythmia']\n",
    "norm = ecg['normal']\n",
    "arr.shape, norm.shape"
   ]
  },
  {
   "cell_type": "code",
   "execution_count": 31,
   "metadata": {},
   "outputs": [
    {
     "data": {
      "image/png": "[encoded data removed]",
      "text/plain": [
       "<Figure size 1080x1080 with 4 Axes>"
      ]
     },
     "metadata": {
      "needs_background": "light"
     },
     "output_type": "display_data"
    }
   ],
   "source": [
    "plt.figure(figsize=(15, 15))\n",
    "\n",
    "plt.subplot(2, 2, 1)\n",
    "plt.plot(arr[0])\n",
    "plt.legend(('Arrythmia',))\n",
    "plt.subplot(2, 2, 2)\n",
    "plt.plot(arr[100])\n",
    "plt.legend(('Arrythmia',))\n",
    "\n",
    "plt.subplot(2, 2, 3)\n",
    "plt.plot(norm[0])\n",
    "plt.legend(('Normal',))\n",
    "plt.subplot(2, 2, 4)\n",
    "plt.plot(norm[100])\n",
    "plt.legend(('Normal',));"
   ]
  },
  {
   "cell_type": "markdown",
   "metadata": {},
   "source": [
    "Now, let's stack the `arr` and `norm` samples together, create class labels for each sample, randomly rearrange them, and divide into train and test sets."
   ]
  },
  {
   "cell_type": "code",
   "execution_count": 32,
   "metadata": {},
   "outputs": [
    {
     "data": {
      "text/plain": [
       "((4850, 1, 2000), (4850, 1), (1213, 1, 2000), (1213, 1))"
      ]
     },
     "execution_count": 32,
     "metadata": {},
     "output_type": "execute_result"
    }
   ],
   "source": [
    "X = np.vstack((arr, norm))\n",
    "X = X.reshape(X.shape[0], 1, -1)\n",
    "T = np.hstack((['arr'] * arr.shape[0], ['nr'] * norm.shape[0])).reshape(-1, 1)\n",
    "n_samples = X.shape[0]\n",
    "rows = np.arange(n_samples)\n",
    "np.random.shuffle(rows)\n",
    "n_train = int(n_samples * 0.8)\n",
    "Xtrain = X[rows[:n_train], ...]\n",
    "Ttrain = T[rows[:n_train], ...]\n",
    "Xtest = X[rows[n_train:], ...]\n",
    "Ttest = T[rows[n_train:], ...]\n",
    "\n",
    "Xtrain.shape, Ttrain.shape, Xtest.shape, Ttest.shape"
   ]
  },
  {
   "cell_type": "code",
   "execution_count": 33,
   "metadata": {},
   "outputs": [
    {
     "data": {
      "text/plain": [
       "array([['nr'],\n",
       "       ['nr'],\n",
       "       ['nr'],\n",
       "       ...,\n",
       "       ['nr'],\n",
       "       ['arr'],\n",
       "       ['arr']], dtype='<U3')"
      ]
     },
     "execution_count": 33,
     "metadata": {},
     "output_type": "execute_result"
    }
   ],
   "source": [
    "Ttrain"
   ]
  },
  {
   "cell_type": "markdown",
   "metadata": {},
   "source": [
    "Okay, ready to train.  Create a `CNN1D` network with a statements like this."
   ]
  },
  {
   "cell_type": "code",
   "execution_count": 34,
   "metadata": {},
   "outputs": [],
   "source": [
    "cnn1d = CNN1D(Xtrain.shape[-1], [5, 10], [10, 10], 2, [100, 20], [20, 5], device=device)"
   ]
  },
  {
   "cell_type": "markdown",
   "metadata": {},
   "source": [
    "Now, experiment with at least ten different network structures, patch sizes and strides and compare them with the percent accuracy on test data.  Combine the results of each of your runs and display them in a `pandas.Dataframe` that includes the network structure and percent correct on train and test sets. Discuss your results, and describe the network structure and training parameters that produced the best test results."
   ]
  },
  {
   "cell_type": "code",
   "execution_count": 35,
   "metadata": {},
   "outputs": [
    {
     "name": "stdout",
     "output_type": "stream",
     "text": [
      "adam: Epoch 2 Loss 0.660\n",
      "adam: Epoch 4 Loss 0.571\n",
      "adam: Epoch 6 Loss 0.528\n",
      "adam: Epoch 8 Loss 0.480\n",
      "adam: Epoch 10 Loss 0.406\n",
      "adam: Epoch 12 Loss 0.366\n",
      "adam: Epoch 14 Loss 0.420\n",
      "adam: Epoch 16 Loss 0.287\n",
      "adam: Epoch 18 Loss 0.229\n",
      "adam: Epoch 20 Loss 0.223\n",
      "Test accuracy in percent correct: 82.03\n",
      "Train accuracy in percent correct: 89.69\n"
     ]
    }
   ],
   "source": [
    "#ECG EXPERIMENT 1\n",
    "n_hiddens_per_conv_layer = [5, 10]\n",
    "patch_size_per_conv_layer = [100, 20]\n",
    "stride_per_conv_layer = [20, 5]\n",
    "n_hiddens_per_fc_layer = [10, 10]\n",
    "\n",
    "n_epochs = 20\n",
    "batch_size = 500\n",
    "learning_rate = 0.01\n",
    "\n",
    "cnn1d = CNN1D(Xtrain.shape[-1], n_hiddens_per_conv_layer, n_hiddens_per_fc_layer, 2, patch_size_per_conv_layer, stride_per_conv_layer, device=device)\n",
    "\n",
    "cnn1d.train(Xtrain, Ttrain, batch_size, n_epochs, learning_rate, method='adam')\n",
    "\n",
    "results3 = []\n",
    "\n",
    "sub_result3 = []\n",
    "sub_result3.append(n_hiddens_per_conv_layer)\n",
    "sub_result3.append(patch_size_per_conv_layer)\n",
    "sub_result3.append(stride_per_conv_layer)\n",
    "sub_result3.append(n_hiddens_per_fc_layer)\n",
    "Classes, _ = cnn1d.use(Xtest)\n",
    "perc_correct = 100 * np.mean(Classes == Ttest)\n",
    "sub_result3.append(perc_correct)\n",
    "print(f'Test accuracy in percent correct: {perc_correct:.2f}')\n",
    "Classes, _ = cnn1d.use(Xtrain)\n",
    "perc_correct = 100 * np.mean(Classes == Ttrain)\n",
    "sub_result3.append(perc_correct)\n",
    "print(f'Train accuracy in percent correct: {perc_correct:.2f}')\n",
    "results3.append(sub_result3)"
   ]
  },
  {
   "cell_type": "code",
   "execution_count": 36,
   "metadata": {},
   "outputs": [
    {
     "name": "stdout",
     "output_type": "stream",
     "text": [
      "adam: Epoch 2 Loss 0.671\n",
      "adam: Epoch 4 Loss 0.670\n",
      "adam: Epoch 6 Loss 0.670\n",
      "adam: Epoch 8 Loss 0.670\n",
      "adam: Epoch 10 Loss 0.670\n",
      "adam: Epoch 12 Loss 0.670\n",
      "adam: Epoch 14 Loss 0.670\n",
      "adam: Epoch 16 Loss 0.670\n",
      "adam: Epoch 18 Loss 0.670\n",
      "adam: Epoch 20 Loss 0.670\n",
      "Test accuracy in percent correct: 56.72\n",
      "Train accuracy in percent correct: 60.74\n"
     ]
    }
   ],
   "source": [
    "#ECG EXPERIMENT 2\n",
    "n_hiddens_per_conv_layer = [10, 10]\n",
    "patch_size_per_conv_layer = [5, 5]\n",
    "stride_per_conv_layer = [2, 2]\n",
    "n_hiddens_per_fc_layer = [10, 10]\n",
    "\n",
    "\n",
    "n_epochs = 20\n",
    "batch_size = 500\n",
    "learning_rate = 0.01\n",
    "\n",
    "cnn1d = CNN1D(Xtrain.shape[-1], n_hiddens_per_conv_layer, n_hiddens_per_fc_layer, 2, patch_size_per_conv_layer, stride_per_conv_layer, device=device)\n",
    "\n",
    "cnn1d.train(Xtrain, Ttrain, batch_size, n_epochs, learning_rate, method='adam')\n",
    "\n",
    "sub_result3 = []\n",
    "sub_result3.append(n_hiddens_per_conv_layer)\n",
    "sub_result3.append(patch_size_per_conv_layer)\n",
    "sub_result3.append(stride_per_conv_layer)\n",
    "sub_result3.append(n_hiddens_per_fc_layer)\n",
    "Classes, _ = cnn1d.use(Xtest)\n",
    "perc_correct = 100 * np.mean(Classes == Ttest)\n",
    "sub_result3.append(perc_correct)\n",
    "print(f'Test accuracy in percent correct: {perc_correct:.2f}')\n",
    "Classes, _ = cnn1d.use(Xtrain)\n",
    "perc_correct = 100 * np.mean(Classes == Ttrain)\n",
    "sub_result3.append(perc_correct)\n",
    "print(f'Train accuracy in percent correct: {perc_correct:.2f}')\n",
    "results3.append(sub_result3)"
   ]
  },
  {
   "cell_type": "code",
   "execution_count": 37,
   "metadata": {},
   "outputs": [
    {
     "name": "stdout",
     "output_type": "stream",
     "text": [
      "adam: Epoch 2 Loss 0.879\n",
      "adam: Epoch 4 Loss 0.689\n",
      "adam: Epoch 6 Loss 0.633\n",
      "adam: Epoch 8 Loss 0.618\n",
      "adam: Epoch 10 Loss 0.612\n",
      "adam: Epoch 12 Loss 0.607\n",
      "adam: Epoch 14 Loss 0.604\n",
      "adam: Epoch 16 Loss 0.601\n",
      "adam: Epoch 18 Loss 0.598\n",
      "adam: Epoch 20 Loss 0.594\n",
      "Test accuracy in percent correct: 62.24\n",
      "Train accuracy in percent correct: 69.65\n"
     ]
    }
   ],
   "source": [
    "#ECG EXPERIMENT 3\n",
    "#TRYING BEST NETWORK FROM PART 1\n",
    "n_hiddens_per_conv_layer = [10, 10]\n",
    "patch_size_per_conv_layer = [5, 5]\n",
    "stride_per_conv_layer = [2, 2]\n",
    "n_hiddens_per_fc_layer = []\n",
    "\n",
    "\n",
    "n_epochs = 20\n",
    "batch_size = 500\n",
    "learning_rate = 0.01\n",
    "\n",
    "cnn1d = CNN1D(Xtrain.shape[-1], n_hiddens_per_conv_layer, n_hiddens_per_fc_layer, 2, patch_size_per_conv_layer, stride_per_conv_layer, device=device)\n",
    "\n",
    "cnn1d.train(Xtrain, Ttrain, batch_size, n_epochs, learning_rate, method='adam')\n",
    "\n",
    "sub_result3 = []\n",
    "sub_result3.append(n_hiddens_per_conv_layer)\n",
    "sub_result3.append(patch_size_per_conv_layer)\n",
    "sub_result3.append(stride_per_conv_layer)\n",
    "sub_result3.append(n_hiddens_per_fc_layer)\n",
    "Classes, _ = cnn1d.use(Xtest)\n",
    "perc_correct = 100 * np.mean(Classes == Ttest)\n",
    "sub_result3.append(perc_correct)\n",
    "print(f'Test accuracy in percent correct: {perc_correct:.2f}')\n",
    "Classes, _ = cnn1d.use(Xtrain)\n",
    "perc_correct = 100 * np.mean(Classes == Ttrain)\n",
    "sub_result3.append(perc_correct)\n",
    "print(f'Train accuracy in percent correct: {perc_correct:.2f}')\n",
    "results3.append(sub_result3)"
   ]
  },
  {
   "cell_type": "code",
   "execution_count": 38,
   "metadata": {},
   "outputs": [
    {
     "name": "stdout",
     "output_type": "stream",
     "text": [
      "adam: Epoch 2 Loss 0.656\n",
      "adam: Epoch 4 Loss 0.653\n",
      "adam: Epoch 6 Loss 0.644\n",
      "adam: Epoch 8 Loss 0.648\n",
      "adam: Epoch 10 Loss 0.637\n",
      "adam: Epoch 12 Loss 0.635\n",
      "adam: Epoch 14 Loss 0.631\n",
      "adam: Epoch 16 Loss 0.635\n",
      "adam: Epoch 18 Loss 0.629\n",
      "adam: Epoch 20 Loss 0.625\n",
      "Test accuracy in percent correct: 61.83\n",
      "Train accuracy in percent correct: 64.80\n"
     ]
    }
   ],
   "source": [
    "#ECG EXPERIMENT 4\n",
    "#TRYING TO IMPROVE ECG NETWORK 2\n",
    "n_hiddens_per_conv_layer = [10, 10, 10]\n",
    "patch_size_per_conv_layer = [5, 5, 5]\n",
    "stride_per_conv_layer = [2, 2, 2]\n",
    "n_hiddens_per_fc_layer = [10, 10, 10]\n",
    "\n",
    "\n",
    "n_epochs = 20\n",
    "batch_size = 500\n",
    "learning_rate = 0.01\n",
    "\n",
    "cnn1d = CNN1D(Xtrain.shape[-1], n_hiddens_per_conv_layer, n_hiddens_per_fc_layer, 2, patch_size_per_conv_layer, stride_per_conv_layer, device=device)\n",
    "\n",
    "cnn1d.train(Xtrain, Ttrain, batch_size, n_epochs, learning_rate, method='adam')\n",
    "\n",
    "sub_result3 = []\n",
    "sub_result3.append(n_hiddens_per_conv_layer)\n",
    "sub_result3.append(patch_size_per_conv_layer)\n",
    "sub_result3.append(stride_per_conv_layer)\n",
    "sub_result3.append(n_hiddens_per_fc_layer)\n",
    "Classes, _ = cnn1d.use(Xtest)\n",
    "perc_correct = 100 * np.mean(Classes == Ttest)\n",
    "sub_result3.append(perc_correct)\n",
    "print(f'Test accuracy in percent correct: {perc_correct:.2f}')\n",
    "Classes, _ = cnn1d.use(Xtrain)\n",
    "perc_correct = 100 * np.mean(Classes == Ttrain)\n",
    "sub_result3.append(perc_correct)\n",
    "print(f'Train accuracy in percent correct: {perc_correct:.2f}')\n",
    "results3.append(sub_result3)"
   ]
  },
  {
   "cell_type": "code",
   "execution_count": 39,
   "metadata": {},
   "outputs": [
    {
     "name": "stdout",
     "output_type": "stream",
     "text": [
      "adam: Epoch 2 Loss 0.643\n",
      "adam: Epoch 4 Loss 0.568\n",
      "adam: Epoch 6 Loss 0.522\n",
      "adam: Epoch 8 Loss 0.388\n",
      "adam: Epoch 10 Loss 0.319\n",
      "adam: Epoch 12 Loss 0.238\n",
      "adam: Epoch 14 Loss 0.132\n",
      "adam: Epoch 16 Loss 0.177\n",
      "adam: Epoch 18 Loss 0.159\n",
      "adam: Epoch 20 Loss 0.057\n",
      "Test accuracy in percent correct: 85.41\n",
      "Train accuracy in percent correct: 97.71\n"
     ]
    }
   ],
   "source": [
    "#ECG EXPERIMENT 5\n",
    "n_hiddens_per_conv_layer = [10, 20]\n",
    "patch_size_per_conv_layer = [100, 20]\n",
    "stride_per_conv_layer = [20, 5]\n",
    "n_hiddens_per_fc_layer = [50, 50]\n",
    "\n",
    "\n",
    "n_epochs = 20\n",
    "batch_size = 500\n",
    "learning_rate = 0.01\n",
    "\n",
    "cnn1d = CNN1D(Xtrain.shape[-1], n_hiddens_per_conv_layer, n_hiddens_per_fc_layer, 2, patch_size_per_conv_layer, stride_per_conv_layer, device=device)\n",
    "\n",
    "cnn1d.train(Xtrain, Ttrain, batch_size, n_epochs, learning_rate, method='adam')\n",
    "\n",
    "sub_result3 = []\n",
    "sub_result3.append(n_hiddens_per_conv_layer)\n",
    "sub_result3.append(patch_size_per_conv_layer)\n",
    "sub_result3.append(stride_per_conv_layer)\n",
    "sub_result3.append(n_hiddens_per_fc_layer)\n",
    "Classes, _ = cnn1d.use(Xtest)\n",
    "perc_correct = 100 * np.mean(Classes == Ttest)\n",
    "sub_result3.append(perc_correct)\n",
    "print(f'Test accuracy in percent correct: {perc_correct:.2f}')\n",
    "Classes, _ = cnn1d.use(Xtrain)\n",
    "perc_correct = 100 * np.mean(Classes == Ttrain)\n",
    "sub_result3.append(perc_correct)\n",
    "print(f'Train accuracy in percent correct: {perc_correct:.2f}')\n",
    "results3.append(sub_result3)"
   ]
  },
  {
   "cell_type": "code",
   "execution_count": 40,
   "metadata": {},
   "outputs": [
    {
     "name": "stdout",
     "output_type": "stream",
     "text": [
      "adam: Epoch 2 Loss 0.680\n",
      "adam: Epoch 4 Loss 0.674\n",
      "adam: Epoch 6 Loss 0.613\n",
      "adam: Epoch 8 Loss 0.621\n",
      "adam: Epoch 10 Loss 0.566\n",
      "adam: Epoch 12 Loss 0.454\n",
      "adam: Epoch 14 Loss 0.400\n",
      "adam: Epoch 16 Loss 0.347\n",
      "adam: Epoch 18 Loss 0.283\n",
      "adam: Epoch 20 Loss 0.204\n",
      "Test accuracy in percent correct: 85.16\n",
      "Train accuracy in percent correct: 92.89\n"
     ]
    }
   ],
   "source": [
    "#ECG EXPERIMENT 6: TRYING THE PROVIDED ARCHITECTURE WITH MORE HIDDENS PER FC\n",
    "n_hiddens_per_conv_layer = [5, 10]\n",
    "patch_size_per_conv_layer = [100, 20]\n",
    "stride_per_conv_layer = [20, 5]\n",
    "n_hiddens_per_fc_layer = [100, 100]\n",
    "\n",
    "\n",
    "n_epochs = 20\n",
    "batch_size = 500\n",
    "learning_rate = 0.01\n",
    "\n",
    "cnn1d = CNN1D(Xtrain.shape[-1], n_hiddens_per_conv_layer, n_hiddens_per_fc_layer, 2, patch_size_per_conv_layer, stride_per_conv_layer, device=device)\n",
    "\n",
    "cnn1d.train(Xtrain, Ttrain, batch_size, n_epochs, learning_rate, method='adam')\n",
    "\n",
    "sub_result3 = []\n",
    "sub_result3.append(n_hiddens_per_conv_layer)\n",
    "sub_result3.append(patch_size_per_conv_layer)\n",
    "sub_result3.append(stride_per_conv_layer)\n",
    "sub_result3.append(n_hiddens_per_fc_layer)\n",
    "Classes, _ = cnn1d.use(Xtest)\n",
    "perc_correct = 100 * np.mean(Classes == Ttest)\n",
    "sub_result3.append(perc_correct)\n",
    "print(f'Test accuracy in percent correct: {perc_correct:.2f}')\n",
    "Classes, _ = cnn1d.use(Xtrain)\n",
    "perc_correct = 100 * np.mean(Classes == Ttrain)\n",
    "sub_result3.append(perc_correct)\n",
    "print(f'Train accuracy in percent correct: {perc_correct:.2f}')\n",
    "results3.append(sub_result3)"
   ]
  },
  {
   "cell_type": "code",
   "execution_count": 41,
   "metadata": {},
   "outputs": [
    {
     "name": "stdout",
     "output_type": "stream",
     "text": [
      "adam: Epoch 2 Loss 0.709\n",
      "adam: Epoch 4 Loss 0.667\n",
      "adam: Epoch 6 Loss 0.644\n",
      "adam: Epoch 8 Loss 0.622\n",
      "adam: Epoch 10 Loss 0.585\n",
      "adam: Epoch 12 Loss 0.553\n",
      "adam: Epoch 14 Loss 0.470\n",
      "adam: Epoch 16 Loss 0.465\n",
      "adam: Epoch 18 Loss 0.413\n",
      "adam: Epoch 20 Loss 0.386\n",
      "Test accuracy in percent correct: 74.36\n",
      "Train accuracy in percent correct: 82.72\n"
     ]
    }
   ],
   "source": [
    "#ECG EXPERIMENT 7: TRYING WITH MORE HIDDENS PER CONV\n",
    "n_hiddens_per_conv_layer = [50, 100]\n",
    "patch_size_per_conv_layer = [100, 20]\n",
    "stride_per_conv_layer = [20, 5]\n",
    "n_hiddens_per_fc_layer = [100, 100]\n",
    "\n",
    "\n",
    "n_epochs = 20\n",
    "batch_size = 500\n",
    "learning_rate = 0.01\n",
    "\n",
    "cnn1d = CNN1D(Xtrain.shape[-1], n_hiddens_per_conv_layer, n_hiddens_per_fc_layer, 2, patch_size_per_conv_layer, stride_per_conv_layer, device=device)\n",
    "\n",
    "cnn1d.train(Xtrain, Ttrain, batch_size, n_epochs, learning_rate, method='adam')\n",
    "\n",
    "sub_result3 = []\n",
    "sub_result3.append(n_hiddens_per_conv_layer)\n",
    "sub_result3.append(patch_size_per_conv_layer)\n",
    "sub_result3.append(stride_per_conv_layer)\n",
    "sub_result3.append(n_hiddens_per_fc_layer)\n",
    "Classes, _ = cnn1d.use(Xtest)\n",
    "perc_correct = 100 * np.mean(Classes == Ttest)\n",
    "sub_result3.append(perc_correct)\n",
    "print(f'Test accuracy in percent correct: {perc_correct:.2f}')\n",
    "Classes, _ = cnn1d.use(Xtrain)\n",
    "perc_correct = 100 * np.mean(Classes == Ttrain)\n",
    "sub_result3.append(perc_correct)\n",
    "print(f'Train accuracy in percent correct: {perc_correct:.2f}')\n",
    "results3.append(sub_result3)"
   ]
  },
  {
   "cell_type": "code",
   "execution_count": 42,
   "metadata": {},
   "outputs": [
    {
     "name": "stdout",
     "output_type": "stream",
     "text": [
      "adam: Epoch 2 Loss 0.648\n",
      "adam: Epoch 4 Loss 0.624\n",
      "adam: Epoch 6 Loss 0.613\n",
      "adam: Epoch 8 Loss 0.582\n",
      "adam: Epoch 10 Loss 0.552\n",
      "adam: Epoch 12 Loss 0.566\n",
      "adam: Epoch 14 Loss 0.475\n",
      "adam: Epoch 16 Loss 0.459\n",
      "adam: Epoch 18 Loss 0.474\n",
      "adam: Epoch 20 Loss 0.300\n",
      "Test accuracy in percent correct: 81.53\n",
      "Train accuracy in percent correct: 88.85\n"
     ]
    }
   ],
   "source": [
    "#ECG EXPERIMENT 8: TRYING WITH LESS PATCH SIZE\n",
    "n_hiddens_per_conv_layer = [5, 10]\n",
    "patch_size_per_conv_layer = [50, 10]\n",
    "stride_per_conv_layer = [20, 5]\n",
    "n_hiddens_per_fc_layer = [100, 100]\n",
    "\n",
    "\n",
    "n_epochs = 20\n",
    "batch_size = 500\n",
    "learning_rate = 0.01\n",
    "\n",
    "cnn1d = CNN1D(Xtrain.shape[-1], n_hiddens_per_conv_layer, n_hiddens_per_fc_layer, 2, patch_size_per_conv_layer, stride_per_conv_layer, device=device)\n",
    "\n",
    "cnn1d.train(Xtrain, Ttrain, batch_size, n_epochs, learning_rate, method='adam')\n",
    "\n",
    "sub_result3 = []\n",
    "sub_result3.append(n_hiddens_per_conv_layer)\n",
    "sub_result3.append(patch_size_per_conv_layer)\n",
    "sub_result3.append(stride_per_conv_layer)\n",
    "sub_result3.append(n_hiddens_per_fc_layer)\n",
    "Classes, _ = cnn1d.use(Xtest)\n",
    "perc_correct = 100 * np.mean(Classes == Ttest)\n",
    "sub_result3.append(perc_correct)\n",
    "print(f'Test accuracy in percent correct: {perc_correct:.2f}')\n",
    "Classes, _ = cnn1d.use(Xtrain)\n",
    "perc_correct = 100 * np.mean(Classes == Ttrain)\n",
    "sub_result3.append(perc_correct)\n",
    "print(f'Train accuracy in percent correct: {perc_correct:.2f}')\n",
    "results3.append(sub_result3)"
   ]
  },
  {
   "cell_type": "code",
   "execution_count": 43,
   "metadata": {},
   "outputs": [
    {
     "name": "stdout",
     "output_type": "stream",
     "text": [
      "adam: Epoch 2 Loss 0.677\n",
      "adam: Epoch 4 Loss 0.599\n",
      "adam: Epoch 6 Loss 0.483\n",
      "adam: Epoch 8 Loss 0.391\n",
      "adam: Epoch 10 Loss 0.320\n",
      "adam: Epoch 12 Loss 0.296\n",
      "adam: Epoch 14 Loss 0.241\n",
      "adam: Epoch 16 Loss 0.188\n",
      "adam: Epoch 18 Loss 0.174\n",
      "adam: Epoch 20 Loss 0.158\n",
      "Test accuracy in percent correct: 75.60\n",
      "Train accuracy in percent correct: 92.89\n"
     ]
    }
   ],
   "source": [
    "#ECG EXPERIMENT 9: TRYING WITH MORE PATCH SIZE\n",
    "n_hiddens_per_conv_layer = [5, 10]\n",
    "patch_size_per_conv_layer = [400, 80]\n",
    "stride_per_conv_layer = [20, 5]\n",
    "n_hiddens_per_fc_layer = [100, 100]\n",
    "\n",
    "\n",
    "n_epochs = 20\n",
    "batch_size = 500\n",
    "learning_rate = 0.01\n",
    "\n",
    "cnn1d = CNN1D(Xtrain.shape[-1], n_hiddens_per_conv_layer, n_hiddens_per_fc_layer, 2, patch_size_per_conv_layer, stride_per_conv_layer, device=device)\n",
    "\n",
    "cnn1d.train(Xtrain, Ttrain, batch_size, n_epochs, learning_rate, method='adam')\n",
    "\n",
    "sub_result3 = []\n",
    "sub_result3.append(n_hiddens_per_conv_layer)\n",
    "sub_result3.append(patch_size_per_conv_layer)\n",
    "sub_result3.append(stride_per_conv_layer)\n",
    "sub_result3.append(n_hiddens_per_fc_layer)\n",
    "Classes, _ = cnn1d.use(Xtest)\n",
    "perc_correct = 100 * np.mean(Classes == Ttest)\n",
    "sub_result3.append(perc_correct)\n",
    "print(f'Test accuracy in percent correct: {perc_correct:.2f}')\n",
    "Classes, _ = cnn1d.use(Xtrain)\n",
    "perc_correct = 100 * np.mean(Classes == Ttrain)\n",
    "sub_result3.append(perc_correct)\n",
    "print(f'Train accuracy in percent correct: {perc_correct:.2f}')\n",
    "results3.append(sub_result3)"
   ]
  },
  {
   "cell_type": "code",
   "execution_count": 44,
   "metadata": {},
   "outputs": [
    {
     "name": "stdout",
     "output_type": "stream",
     "text": [
      "adam: Epoch 2 Loss 0.685\n",
      "adam: Epoch 4 Loss 0.638\n",
      "adam: Epoch 6 Loss 0.532\n",
      "adam: Epoch 8 Loss 0.478\n",
      "adam: Epoch 10 Loss 0.370\n",
      "adam: Epoch 12 Loss 0.343\n",
      "adam: Epoch 14 Loss 0.332\n",
      "adam: Epoch 16 Loss 0.274\n",
      "adam: Epoch 18 Loss 0.178\n",
      "adam: Epoch 20 Loss 0.243\n",
      "Test accuracy in percent correct: 68.10\n",
      "Train accuracy in percent correct: 86.45\n"
     ]
    }
   ],
   "source": [
    "#ECG EXPERIMENT 10: TRYING WITH LESS STRIDE\n",
    "n_hiddens_per_conv_layer = [5, 10]\n",
    "patch_size_per_conv_layer = [100, 20]\n",
    "stride_per_conv_layer = [10, 2]\n",
    "n_hiddens_per_fc_layer = [100, 100]\n",
    "\n",
    "\n",
    "n_epochs = 20\n",
    "batch_size = 500\n",
    "learning_rate = 0.01\n",
    "\n",
    "cnn1d = CNN1D(Xtrain.shape[-1], n_hiddens_per_conv_layer, n_hiddens_per_fc_layer, 2, patch_size_per_conv_layer, stride_per_conv_layer, device=device)\n",
    "\n",
    "cnn1d.train(Xtrain, Ttrain, batch_size, n_epochs, learning_rate, method='adam')\n",
    "\n",
    "sub_result3 = []\n",
    "sub_result3.append(n_hiddens_per_conv_layer)\n",
    "sub_result3.append(patch_size_per_conv_layer)\n",
    "sub_result3.append(stride_per_conv_layer)\n",
    "sub_result3.append(n_hiddens_per_fc_layer)\n",
    "Classes, _ = cnn1d.use(Xtest)\n",
    "perc_correct = 100 * np.mean(Classes == Ttest)\n",
    "sub_result3.append(perc_correct)\n",
    "print(f'Test accuracy in percent correct: {perc_correct:.2f}')\n",
    "Classes, _ = cnn1d.use(Xtrain)\n",
    "perc_correct = 100 * np.mean(Classes == Ttrain)\n",
    "sub_result3.append(perc_correct)\n",
    "print(f'Train accuracy in percent correct: {perc_correct:.2f}')\n",
    "results3.append(sub_result3)"
   ]
  },
  {
   "cell_type": "code",
   "execution_count": 45,
   "metadata": {},
   "outputs": [
    {
     "name": "stdout",
     "output_type": "stream",
     "text": [
      "adam: Epoch 2 Loss 0.673\n",
      "adam: Epoch 4 Loss 0.626\n",
      "adam: Epoch 6 Loss 0.581\n",
      "adam: Epoch 8 Loss 0.514\n",
      "adam: Epoch 10 Loss 0.479\n",
      "adam: Epoch 12 Loss 0.377\n",
      "adam: Epoch 14 Loss 0.381\n",
      "adam: Epoch 16 Loss 0.290\n",
      "adam: Epoch 18 Loss 0.306\n",
      "adam: Epoch 20 Loss 0.258\n",
      "Test accuracy in percent correct: 80.54\n",
      "Train accuracy in percent correct: 89.77\n"
     ]
    }
   ],
   "source": [
    "#ECG EXPERIMENT 11: FREE FOR ALL!\n",
    "n_hiddens_per_conv_layer = [5*2, 10*2, 10*2]\n",
    "patch_size_per_conv_layer = [100, 10, 10]\n",
    "stride_per_conv_layer = [20, 5, 5]\n",
    "n_hiddens_per_fc_layer = [100, 100, 100]\n",
    "\n",
    "\n",
    "n_epochs = 20\n",
    "batch_size = 500\n",
    "learning_rate = 0.01\n",
    "\n",
    "cnn1d = CNN1D(Xtrain.shape[-1], n_hiddens_per_conv_layer, n_hiddens_per_fc_layer, 2, patch_size_per_conv_layer, stride_per_conv_layer, device=device)\n",
    "\n",
    "cnn1d.train(Xtrain, Ttrain, batch_size, n_epochs, learning_rate, method='adam')\n",
    "\n",
    "sub_result3 = []\n",
    "sub_result3.append(n_hiddens_per_conv_layer)\n",
    "sub_result3.append(patch_size_per_conv_layer)\n",
    "sub_result3.append(stride_per_conv_layer)\n",
    "sub_result3.append(n_hiddens_per_fc_layer)\n",
    "Classes, _ = cnn1d.use(Xtest)\n",
    "perc_correct = 100 * np.mean(Classes == Ttest)\n",
    "sub_result3.append(perc_correct)\n",
    "print(f'Test accuracy in percent correct: {perc_correct:.2f}')\n",
    "Classes, _ = cnn1d.use(Xtrain)\n",
    "perc_correct = 100 * np.mean(Classes == Ttrain)\n",
    "sub_result3.append(perc_correct)\n",
    "print(f'Train accuracy in percent correct: {perc_correct:.2f}')\n",
    "results3.append(sub_result3)"
   ]
  },
  {
   "cell_type": "code",
   "execution_count": 46,
   "metadata": {},
   "outputs": [
    {
     "name": "stdout",
     "output_type": "stream",
     "text": [
      "   Hiddens Per Conv Layer     Patch Size      Stride Hiddens per FC Layer  \\\n",
      "0                 [5, 10]      [100, 20]     [20, 5]             [10, 10]   \n",
      "1                [10, 10]         [5, 5]      [2, 2]             [10, 10]   \n",
      "2                [10, 10]         [5, 5]      [2, 2]                   []   \n",
      "3            [10, 10, 10]      [5, 5, 5]   [2, 2, 2]         [10, 10, 10]   \n",
      "4                [10, 20]      [100, 20]     [20, 5]             [50, 50]   \n",
      "5                 [5, 10]      [100, 20]     [20, 5]           [100, 100]   \n",
      "6               [50, 100]      [100, 20]     [20, 5]           [100, 100]   \n",
      "7                 [5, 10]       [50, 10]     [20, 5]           [100, 100]   \n",
      "8                 [5, 10]      [400, 80]     [20, 5]           [100, 100]   \n",
      "9                 [5, 10]      [100, 20]     [10, 2]           [100, 100]   \n",
      "10           [10, 20, 20]  [100, 10, 10]  [20, 5, 5]      [100, 100, 100]   \n",
      "\n",
      "    Test % Correct  Train % Correct  \n",
      "0        82.028030        89.690722  \n",
      "1        56.718879        60.742268  \n",
      "2        62.242374        69.649485  \n",
      "3        61.830173        64.804124  \n",
      "4        85.408079        97.711340  \n",
      "5        85.160758        92.886598  \n",
      "6        74.361088        82.721649  \n",
      "7        81.533388        88.845361  \n",
      "8        75.597692        92.886598  \n",
      "9        68.095631        86.453608  \n",
      "10       80.544106        89.773196  \n"
     ]
    }
   ],
   "source": [
    "#ECG EXPERIMENT RESULTS\n",
    "MNIST_results3 = pandas.DataFrame(results3)\n",
    "MNIST_results3.columns = ['Hiddens Per Conv Layer', 'Patch Size', 'Stride', 'Hiddens per FC Layer', 'Test % Correct', 'Train % Correct']\n",
    "print(MNIST_results3)"
   ]
  },
  {
   "cell_type": "markdown",
   "metadata": {},
   "source": [
    "## CNN1D Results Discussion\n",
    "\n",
    "For this data I found a much lower average test percent correct across several networks than with the previous data.  The best network I tried was one with a n_hiddens_per_conv_layer = [10, 20], patch_size_per_conv_layer = [100, 20], stride_per_conv_layer = [20, 5] and n_hiddens_per_fc_layer = [100, 100].  This network had a test percent correct of 85.408.  I also observed that overall the difference between the train percent correct and test percent correct was much larger than with the previous data set.  "
   ]
  },
  {
   "cell_type": "markdown",
   "metadata": {},
   "source": [
    "## Grading and Check-In\n",
    "Download [A5grader.zip](https://www.cs.colostate.edu/~anderson/cs445/notebooks/A5grader.zip) and extract A5grader.py from it. Run the code in the following cell to demonstrate an example grading session. Remember to test your code with additional tests of your own design. Your notebook must be named as Lastname-A5.ipynb.  \n",
    "\n",
    "When ready, submit your notebook via the A5 link in our class Canvas web page."
   ]
  },
  {
   "cell_type": "code",
   "execution_count": 47,
   "metadata": {},
   "outputs": [
    {
     "name": "stdout",
     "output_type": "stream",
     "text": [
      "\n",
      "======================= Code Execution =======================\n",
      "\n",
      "Extracting python code from notebook named 'Valdes-A5.ipynb' and storing in notebookcode.py\n",
      "Removing all statements that are not function or class defs or import statements.\n",
      "\n",
      "Testing\n",
      "\n",
      "    xs = np.arange(100)\n",
      "    n_each = 500\n",
      "    n_samples = n_each * 2\n",
      "    X = np.array([np.sin(xs / 2) + np.random.normal(0, 1, size=100) for i in range(n_each)] +\n",
      "                 [np.sin(xs / 3) + np.random.normal(0, 1, size=100) for i in range(n_each)])\n",
      "    X = X[:, np.newaxis, :]\n",
      "    T = np.array([2] * n_each + [3] * n_each).reshape(-1, 1)\n",
      "    rows = np.arange(n_samples)\n",
      "    np.random.shuffle(rows)\n",
      "    X = X[rows, ...]\n",
      "    T = T[rows, ...]\n",
      "    n_train = int(n_samples * 0.8)\n",
      "    Xtrain = X[:n_train, ...]\n",
      "    Ttrain = T[:n_train, :]\n",
      "    Xtest = X[n_train:, ...]\n",
      "    Ttest = T[n_train:, :]\n",
      "\n",
      "    cnn1d = CNN1D(100, [5, 5], [3], 2, [10, 5], [1, 2])\n",
      "    cnn1d.train(Xtrain, Ttrain, 10, 20, 0.01, method='adam')\n",
      "\n",
      "    perc_train = 100 * np.mean(cnn1d.use(Xtrain)[0] == Ttrain)\n",
      "    perc_test = 100 * np.mean(cnn1d.use(Xtest)[0] == Ttest)\n",
      "\n",
      "adam: Epoch 2 Loss 0.016\n",
      "adam: Epoch 4 Loss 0.005\n",
      "adam: Epoch 6 Loss 0.003\n",
      "adam: Epoch 8 Loss 0.002\n",
      "adam: Epoch 10 Loss 0.001\n",
      "adam: Epoch 12 Loss 0.001\n",
      "adam: Epoch 14 Loss 0.001\n",
      "adam: Epoch 16 Loss 0.000\n",
      "adam: Epoch 18 Loss 0.000\n",
      "adam: Epoch 20 Loss 0.000\n",
      "\n",
      "--- 40/40 points.  perc_train is correctly 100%.\n",
      "\n",
      "--- 40/40 points.  perc_test is correctly 100%.\n",
      "\n",
      "======================================================================\n",
      "C:\\Users\\Adam Valdes Execution Grade is 80 / 80\n",
      "======================================================================\n",
      "\n",
      " __ / 10 Based on results of experiments with MNIST data.\n",
      "\n",
      " __ / 10 Based on results of experiments with ECG data.\n",
      "\n",
      "======================================================================\n",
      "C:\\Users\\Adam Valdes FINAL GRADE is  _  / 100\n",
      "======================================================================\n",
      "\n",
      "Extra Credit:\n",
      "\n",
      "Earn up to 3 extra credit points on this assignment by doing any or all of the following experiments.\n",
      "\n",
      "1. Compare your results on the MNIST data by using relu versus tanh activation functions. Show and \n",
      "   discuss the results.\n",
      "\n",
      "2. Compare your results on the MNIST data using adam versus sgd. Show and discuss the results.\n",
      "\n",
      "3. Download another image data set, apply your CNN2D class to this data and discuss the results.\n",
      "\n",
      "C:\\Users\\Adam Valdes EXTRA CREDIT is 0 / 3\n"
     ]
    }
   ],
   "source": [
    "%run -i A5grader.py"
   ]
  },
  {
   "cell_type": "markdown",
   "metadata": {},
   "source": [
    "## Extra Credit\n",
    "Earn up to 3 extra credit points on this assignment by doing any or all of the following experiments. \n",
    "\n",
    "1. Compare your results on the MNIST data by using `relu` versus `tanh` activation functions. Show and discuss the results.\n",
    "2. Compare your results on the MNIST data using `adam` versus `sgd`. Show and discuss the results.\n",
    "3. Download another image data set, apply your `CNN2D` class to this data and discuss the results."
   ]
  }
 ],
 "metadata": {
  "kernelspec": {
   "display_name": "Python 3",
   "language": "python",
   "name": "python3"
  },
  "language_info": {
   "codemirror_mode": {
    "name": "ipython",
    "version": 3
   },
   "file_extension": ".py",
   "mimetype": "text/x-python",
   "name": "python",
   "nbconvert_exporter": "python",
   "pygments_lexer": "ipython3",
   "version": "3.7.4"
  },
  "toc": {
   "base_numbering": 1,
   "nav_menu": {},
   "number_sections": true,
   "sideBar": true,
   "skip_h1_title": false,
   "title_cell": "Table of Contents",
   "title_sidebar": "Contents",
   "toc_cell": false,
   "toc_position": {
    "height": "calc(100% - 180px)",
    "left": "10px",
    "top": "150px",
    "width": "165px"
   },
   "toc_section_display": true,
   "toc_window_display": false
  }
 },
 "nbformat": 4,
 "nbformat_minor": 2
}
